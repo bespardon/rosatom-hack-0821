{
  "nbformat": 4,
  "nbformat_minor": 0,
  "metadata": {
    "colab": {
      "name": "RosAtom_geo.ipynb",
      "provenance": []
    },
    "kernelspec": {
      "name": "python3",
      "display_name": "Python 3"
    },
    "language_info": {
      "name": "python"
    }
  },
  "cells": [
    {
      "cell_type": "code",
      "metadata": {
        "id": "_hGAoYbKopwp"
      },
      "source": [
        "import numpy as np \n",
        "import pandas as pd \n",
        "import operator"
      ],
      "execution_count": null,
      "outputs": []
    },
    {
      "cell_type": "code",
      "metadata": {
        "id": "IDfxEtWfosx5"
      },
      "source": [
        "n = 200000\n",
        "n1 = 4\n",
        "hour_end = 8\n",
        "marks = [0,1,2,3,4,5]\n",
        "in_time = [0,1]\n",
        "employees = [0,1,2,3,4,5,6,7,8,9,10,11,12]\n",
        "hour = range(hour_end)\n",
        "duration =  np.ravel(n1 * np.random.rand(n,1))\n",
        "type_task = [0,1,2,3,4,5]\n",
        "start_hour = np.random.choice(hour, n)\n",
        "load_percent = np.ravel(np.random.rand(n,1))\n",
        "marks_l = np.random.choice(marks, n)\n",
        "in_time_l = np.random.choice(in_time, n)\n",
        "employees_l = np.random.choice(employees, n)\n",
        "type_task_l = np.random.choice(type_task, n)\n",
        "metric = np.log2(marks_l + 2) * np.log2(in_time_l + 2)"
      ],
      "execution_count": null,
      "outputs": []
    },
    {
      "cell_type": "code",
      "metadata": {
        "id": "E5ZlvfwMouY-"
      },
      "source": [
        "df = pd.DataFrame({'duration': duration,'loading_percent': load_percent, 'employees': employees_l, 'task_type': type_task_l, 'start_hour': start_hour,\n",
        "                  'metric': metric})"
      ],
      "execution_count": null,
      "outputs": []
    },
    {
      "cell_type": "code",
      "metadata": {
        "id": "7Tue_yuToyPK"
      },
      "source": [
        ""
      ],
      "execution_count": null,
      "outputs": []
    },
    {
      "cell_type": "code",
      "metadata": {
        "colab": {
          "base_uri": "https://localhost:8080/",
          "height": 221
        },
        "id": "kDd6fd7Dpuh4",
        "outputId": "0196aa62-e236-4040-a4af-2dc6ca47e641"
      },
      "source": [
        "!pip install geopandas\n",
        "from shapely.geometry import MultiLineString, shape, Point, Polygon\n",
        "import geopandas as gpd\n",
        "\n",
        "df['gps_date']='2021-8-28'\n",
        "df['start_hour']=df['start_hour'].astype(str)+':00:00'\n",
        "df['datetime'] = df['gps_date'].astype(str)+' '+df['start_hour'].astype(str)\n",
        "df['datetime'] = pd.to_datetime(df['datetime'], format=\"%Y-%m-%d %H:%M:%S\")\n",
        "\n",
        "file = '/content/random geo msk mo.csv'\n",
        "\n",
        "if '.json' in file:\n",
        "    with open(file, 'r', encoding='cp1251', errors='ignore') as data_file:\n",
        "        data_loaded = json.load(data_file)\n",
        "    df_t = pd.DataFrame(data_loaded)\n",
        "    output_file = file.split('/')[-1].split('.json')[0]\n",
        "    \n",
        "elif '.csv' in file:\n",
        "    try:\n",
        "        df_t = pd.read_csv(file)        \n",
        "    except:\n",
        "        df_t = pd.read_csv(file, sep=';', encoding='1251')\n",
        "        \n",
        "    output_file = file.split('/')[-1].split('.csv')[0]\n",
        "    \n",
        "else:\n",
        "    df_t = pd.read_excel(file, )\n",
        "    output_file = file.split('/')[-1].split('.xlsx')[0]\n",
        "\n",
        "print(output_file)\n",
        "\n",
        "lat=df_t['lat'].values\n",
        "lon=df_t['lon'].values\n",
        "\n",
        "np.random.seed(2)\n",
        "df['lat']=np.random.choice(lat, size=df.shape[0])\n",
        "df['lon']=np.random.choice(lon,size=df.shape[0])\n",
        "\n",
        "geometry = [Point(xy) for xy in zip(df.lon, df.lat)]\n",
        "df['geometry'] = geometry\n",
        "crs = {'init' :'epsg:4326'}\n",
        "df=gpd.GeoDataFrame(df, crs=crs, geometry=geometry)\n",
        "print(df.head())\n",
        "\n",
        "df.to_file('df_rosatom_syntethic_keplergl.geojson', driver='GeoJSON')"
      ],
      "execution_count": null,
      "outputs": [
        {
          "output_type": "stream",
          "text": [
            "taxi_track_2021-05-17\n"
          ],
          "name": "stdout"
        },
        {
          "output_type": "execute_result",
          "data": {
            "text/html": [
              "<div>\n",
              "<style scoped>\n",
              "    .dataframe tbody tr th:only-of-type {\n",
              "        vertical-align: middle;\n",
              "    }\n",
              "\n",
              "    .dataframe tbody tr th {\n",
              "        vertical-align: top;\n",
              "    }\n",
              "\n",
              "    .dataframe thead th {\n",
              "        text-align: right;\n",
              "    }\n",
              "</style>\n",
              "<table border=\"1\" class=\"dataframe\">\n",
              "  <thead>\n",
              "    <tr style=\"text-align: right;\">\n",
              "      <th></th>\n",
              "      <th>ride_id</th>\n",
              "      <th>gps_date</th>\n",
              "      <th>gps_time</th>\n",
              "      <th>lat</th>\n",
              "      <th>lon</th>\n",
              "    </tr>\n",
              "  </thead>\n",
              "  <tbody>\n",
              "    <tr>\n",
              "      <th>0</th>\n",
              "      <td>1</td>\n",
              "      <td>2021-05-17</td>\n",
              "      <td>00:00:02</td>\n",
              "      <td>55.604162</td>\n",
              "      <td>37.533642</td>\n",
              "    </tr>\n",
              "    <tr>\n",
              "      <th>1</th>\n",
              "      <td>1</td>\n",
              "      <td>2021-05-17</td>\n",
              "      <td>00:00:51</td>\n",
              "      <td>55.606141</td>\n",
              "      <td>37.532950</td>\n",
              "    </tr>\n",
              "    <tr>\n",
              "      <th>2</th>\n",
              "      <td>1</td>\n",
              "      <td>2021-05-17</td>\n",
              "      <td>00:01:20</td>\n",
              "      <td>55.606141</td>\n",
              "      <td>37.532950</td>\n",
              "    </tr>\n",
              "    <tr>\n",
              "      <th>3</th>\n",
              "      <td>1</td>\n",
              "      <td>2021-05-17</td>\n",
              "      <td>00:02:06</td>\n",
              "      <td>55.605160</td>\n",
              "      <td>37.531706</td>\n",
              "    </tr>\n",
              "    <tr>\n",
              "      <th>4</th>\n",
              "      <td>1</td>\n",
              "      <td>2021-05-17</td>\n",
              "      <td>00:02:41</td>\n",
              "      <td>55.600262</td>\n",
              "      <td>37.528411</td>\n",
              "    </tr>\n",
              "  </tbody>\n",
              "</table>\n",
              "</div>"
            ],
            "text/plain": [
              "   ride_id    gps_date  gps_time        lat        lon\n",
              "0        1  2021-05-17  00:00:02  55.604162  37.533642\n",
              "1        1  2021-05-17  00:00:51  55.606141  37.532950\n",
              "2        1  2021-05-17  00:01:20  55.606141  37.532950\n",
              "3        1  2021-05-17  00:02:06  55.605160  37.531706\n",
              "4        1  2021-05-17  00:02:41  55.600262  37.528411"
            ]
          },
          "metadata": {},
          "execution_count": 19
        }
      ]
    },
    {
      "cell_type": "code",
      "metadata": {
        "id": "CtJNaxS_q1Q5"
      },
      "source": [
        ""
      ],
      "execution_count": null,
      "outputs": []
    },
    {
      "cell_type": "code",
      "metadata": {
        "id": "NO9ZuHjisEJ1"
      },
      "source": [
        "NLP"
      ],
      "execution_count": null,
      "outputs": []
    },
    {
      "cell_type": "code",
      "metadata": {
        "id": "POCEmoEGwh_0"
      },
      "source": [
        ""
      ],
      "execution_count": null,
      "outputs": []
    },
    {
      "cell_type": "code",
      "metadata": {
        "id": "FEqKeSr5xOSF"
      },
      "source": [
        ""
      ],
      "execution_count": null,
      "outputs": []
    }
  ]
}